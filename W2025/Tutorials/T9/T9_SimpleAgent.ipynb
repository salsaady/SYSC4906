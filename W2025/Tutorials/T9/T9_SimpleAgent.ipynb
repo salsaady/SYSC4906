{
 "cells": [
  {
   "cell_type": "markdown",
   "id": "fb9b0f26-e922-4027-b950-aedb6d6f59ef",
   "metadata": {},
   "source": [
    "# Tutorial 9 - Simple Reason-Act Agent from Scratch \n",
    "See more at https://react-lm.github.io/\n",
    "\n",
    "**Course:** SYSC 4415 - Introduction to Machine Learning\n",
    "\n",
    "**Semester:** Winter 2025\n",
    "\n",
    "**Recreated by:** [Igor Bogdanov](mailto:igorbogdanov@cmailcarleton.ca) \n",
    "\n",
    "**Inspired by:** [NVIDIA GTC 2025](https://www.nvidia.com/gtc/) Agentic Session\n",
    "\n",
    "---"
   ]
  },
  {
   "cell_type": "markdown",
   "id": "9690ac72-5d95-4cbf-875a-ae0e835593c9",
   "metadata": {},
   "source": [
    "This notebook demonstrates key concepts in building a basic ReAct agent:\n",
    "\n",
    "---\n",
    "1. **AI Agent Core Components**\n",
    "   - Essential elements that compose an intelligent agent\n",
    "   - Prompt engineering and message processing techniques\n",
    "   - Conversation state and dialogue management\n",
    "---\n",
    "2. **Reasoning-Action Framework**\n",
    "   - Cognitive process cycle: Thought → Action → Observation → Answer cycle\n",
    "   - Structured reasoning process\n",
    "   - Tool utilization and output interpretation\n",
    "---\n",
    "3. **Tool Orchestration**\n",
    "   - Creating callable functions (model_memory, apply_conversion)\n",
    "   - Processing external data and maintaining system state\n",
    "---\n",
    "4. **Applied Agent Development**\n",
    "   - Case study: Measurement Conversion System\n",
    "   - Multi-step problem decomposition\n",
    "   - Automated reasoning with integrated capabilities\n",
    "---"
   ]
  },
  {
   "cell_type": "markdown",
   "id": "3443e057",
   "metadata": {},
   "source": [
    "<img src=\"assets/react_agent_flowchart.png\"  width=\"20%;\" style=\"background-color:Gainsboro; padding:5%;\"/>"
   ]
  },
  {
   "cell_type": "code",
   "execution_count": 58,
   "id": "6cb3ef4c-58b3-401b-b104-0d51e553d982",
   "metadata": {
    "height": 149
   },
   "outputs": [],
   "source": [
    "import os\n",
    "from typing import Dict, List, Optional\n",
    "from dataclasses import dataclass\n",
    "import re\n",
    "from dotenv import load_dotenv\n",
    "from groq import Groq\n"
   ]
  },
  {
   "cell_type": "code",
   "execution_count": 59,
   "id": "dc3293b7-a50c-43c8-a022-8975e1e444b8",
   "metadata": {
    "height": 30
   },
   "outputs": [],
   "source": [
    "client = Groq(\n",
    "api_key=os.environ.get(\"GROQ_API_KEY\", \"API_KEY_VALUE\"))\n"
   ]
  },
  {
   "cell_type": "code",
   "execution_count": 60,
   "id": "aa55b90b",
   "metadata": {},
   "outputs": [
    {
     "data": {
      "text/plain": [
       "\"Hello. I'm here to help with any questions or topics you'd like to discuss. It seems like we've just started our conversation, and I'm not aware of any specific events or situations you might be referring to. Could you please provide more context or information about what you're asking? I'll do my best to help.\""
      ]
     },
     "execution_count": 60,
     "metadata": {},
     "output_type": "execute_result"
    }
   ],
   "source": [
    "\n",
    "# Update the initial test completion\n",
    "chat_completion = client.chat.completions.create(\n",
    "    model = \"llama-3.3-70b-versatile\", \n",
    "    messages=[{\"role\": \"user\", \"content\": \"Hello! What is happening?\"}],\n",
    "    temperature=0.2,\n",
    "    top_p=0.7,\n",
    "    max_tokens=1024\n",
    ")\n",
    "\n",
    "chat_completion.choices[0].message.content"
   ]
  },
  {
   "cell_type": "code",
   "execution_count": 61,
   "id": "ee0fe1c7-77e2-499c-a2f9-1f739bb6ddf0",
   "metadata": {
    "height": 387
   },
   "outputs": [],
   "source": [
    "@dataclass\n",
    "class AgentState:\n",
    "    \"\"\"Represents the current state of the agent.\"\"\"\n",
    "\n",
    "    messages: List[Dict[str, str]]\n",
    "    system_prompt: str\n",
    "\n",
    "\n",
    "class ReActAgent:\n",
    "    \"\"\"\n",
    "    A ReAct agent specialized in code analysis that follows the Thought -> Action -> Observation -> Answer pattern.\n",
    "\n",
    "    This implementation demonstrates:\n",
    "    1. Code complexity analysis\n",
    "    2. Dependency detection\n",
    "    3. Code quality assessment\n",
    "    4. Improvement suggestions\n",
    "    \"\"\"\n",
    "\n",
    "    def __init__(self, system_prompt: str):\n",
    "        \"\"\"\n",
    "        Initialize the code analysis agent.\n",
    "\n",
    "        Args:\n",
    "            system_prompt: The system prompt that defines the agent's behavior\n",
    "        \"\"\"\n",
    "        self.client = client\n",
    "        self.state = AgentState(\n",
    "            messages=[{\"role\": \"system\", \"content\": system_prompt}],\n",
    "            system_prompt=system_prompt,\n",
    "        )\n",
    "\n",
    "    def add_message(self, role: str, content: str) -> None:\n",
    "        \"\"\"Add a message to the agent's conversation history.\"\"\"\n",
    "        self.state.messages.append({\"role\": role, \"content\": content})\n",
    "\n",
    "    def execute(self) -> str:\n",
    "        \"\"\"\n",
    "        Execute the agent's next action based on the current state.\n",
    "\n",
    "        Returns:\n",
    "            The agent's response\n",
    "        \"\"\"\n",
    "        completion = self.client.chat.completions.create(\n",
    "            model=\"llama-3.3-70b-versatile\",\n",
    "            temperature=0.2,\n",
    "            top_p=0.7,\n",
    "            max_tokens=1024,\n",
    "            messages=self.state.messages,\n",
    "        )\n",
    "        return completion.choices[0].message.content\n",
    "\n",
    "    def __call__(self, message: str) -> str:\n",
    "        \"\"\"\n",
    "        Process a user message and return the agent's response.\n",
    "\n",
    "        Args:\n",
    "            message: The user's input message\n",
    "\n",
    "        Returns:\n",
    "            The agent's response\n",
    "        \"\"\"\n",
    "        self.add_message(\"user\", message)\n",
    "        result = self.execute()\n",
    "        self.add_message(\"assistant\", result)\n",
    "        return result  "
   ]
  },
  {
   "cell_type": "code",
   "execution_count": 72,
   "id": "bf4dcb93-6298-4cfd-b3ce-61dfac7fb35f",
   "metadata": {
    "height": 302
   },
   "outputs": [],
   "source": [
    "# Tools\n",
    "\n",
    "def model_memory(unit: str) -> str:\n",
    "    \"\"\"\n",
    "    Get the conversion rate for a given unit.\n",
    "\n",
    "    Args:\n",
    "        unit: The unit to get conversion rate for\n",
    "\n",
    "    Returns:\n",
    "        The conversion rate as a numerical value\n",
    "    \"\"\"\n",
    "    rates = {\n",
    "        \"meters to feet\": \"3.28084\",\n",
    "        \"kilometers to miles\": \"0.621371\",\n",
    "        \"kilograms to pounds\": \"2.20462\",\n",
    "        \"celsius to fahrenheit\": \"9/5,32\",  # Special case with two parameters\n",
    "    }\n",
    "    return rates.get(unit.lower(), f\"No conversion rate found for {unit}\")\n",
    "\n",
    "def apply_conversion(rate: str) -> str:\n",
    "    \"\"\"\n",
    "    Apply a conversion rate to a value.\n",
    "\n",
    "    Args:\n",
    "        rate: The conversion rate obtained from get_conversion_rate\n",
    "        value: The value to convert\n",
    "\n",
    "    Returns:\n",
    "        The converted value\n",
    "    \"\"\"\n",
    "    try:\n",
    "        # Split the input string into rate and value\n",
    "        params = rate.split(\",\")\n",
    "        if len(params) == 3:\n",
    "            # Handle temperature conversion (multiplier, offset, value)\n",
    "            multiplier, offset, value_str = params\n",
    "            num = float(value_str.strip())\n",
    "            # Evaluate the fraction for temperature conversion\n",
    "            multiplier = eval(multiplier.strip())  # This will evaluate \"9/5\" to 1.8\n",
    "            offset = float(offset.strip())\n",
    "            result = num * multiplier + offset\n",
    "            return f\"{num}°C = {result:.2f}°F\"\n",
    "        elif len(params) == 2:\n",
    "            # Handle regular conversion (rate, value)\n",
    "            rate_str, value_str = params\n",
    "            num = float(value_str.strip())\n",
    "            conversion_rate = float(rate_str)\n",
    "            result = num * conversion_rate\n",
    "            # Map conversion rates to their source and target units\n",
    "            unit_map = {\n",
    "                \"3.28084\": (\"meters\", \"feet\"),\n",
    "                \"0.621371\": (\"kilometers\", \"miles\"),\n",
    "                \"2.20462\": (\"kilograms\", \"pounds\"),\n",
    "            }\n",
    "            source_unit, target_unit = unit_map.get(rate_str, (\"units\", \"units\"))\n",
    "            return f\"{num} {source_unit} = {result:.2f} {target_unit}\"\n",
    "        else:\n",
    "            return \"Error: Invalid number of parameters\"\n",
    "    except ValueError:\n",
    "        return \"Error: Please provide valid numbers\"\n",
    "    except SyntaxError:\n",
    "        return \"Error: Invalid conversion rate format\""
   ]
  },
  {
   "cell_type": "code",
   "execution_count": 73,
   "id": "98f303b1-a4d0-408c-8cc0-515ff980717f",
   "metadata": {
    "height": 557
   },
   "outputs": [],
   "source": [
    "def create_agent() -> ReActAgent:\n",
    "    \"\"\"\n",
    "    Create a conversion agent with the tutorial system prompt.\n",
    "    \"\"\"\n",
    "    system_prompt = \"\"\"\n",
    "    You run in a loop of Thought, Action, PAUSE, Observation.\n",
    "    At the end of the loop you output an Answer\n",
    "    Use Thought to describe your thoughts about the question you have been asked.\n",
    "    Use Action to run one of the actions available to you - then return PAUSE.\n",
    "    Observation will be the result of running those actions.\n",
    "    \n",
    "    Your available actions are:\n",
    "    \n",
    "    model_memory:\n",
    "    e.g. model_memory: meters to feet\n",
    "    Get the conversion rate for a unit (e.g., meters to feet, kilometers to miles)\n",
    "\n",
    "    apply_conversion: 3.28084, 5\n",
    "    Applies the conversion rate to a value and returns a number\n",
    "    \n",
    "    No other actions are available to you.\n",
    "    \n",
    "    Example session #1:\n",
    "    Question: Convert 5 meters to feet?\n",
    "    \n",
    "    Thought: This is a length conversion from meters to feet. First, I need to get the conversion rate\n",
    "    Action: get_conversion_rate: meters to feet\n",
    "    PAUSE\n",
    "\n",
    "    You will be called again with this:\n",
    "    \n",
    "    Observation: 3.28084\n",
    "\n",
    "    You then output:\n",
    "    \n",
    "    Thought: Now I can apply this conversion rate to 5 meters\n",
    "    Action: apply_conversion: 3.28084, 5\n",
    "    PAUSE\n",
    "    \n",
    "    Observation: 5 meters = 16.40 feet\n",
    "    \n",
    "    Answer: 5 meters is equal to 16.40 feet  \n",
    "\n",
    "    Example session #2:\n",
    "\n",
    "    Question:  Convert 20°C to Fahrenheit?\n",
    "    \n",
    "    Thought: This is a temperature conversion from Celsius to Fahrenheit. First, I need to get the conversion formula\n",
    "    Action: model_memory: celsius to fahrenheit\n",
    "    PAUSE\n",
    "\n",
    "    You will be called again with this:\n",
    "    \n",
    "    Observation: 9/5,32\n",
    "\n",
    "    You then output:\n",
    "    \n",
    "    Thought: Now I can apply this formula to 20°C\n",
    "    Action: apply_conversion: 9/5,32, 20\n",
    "    PAUSE\n",
    "    \n",
    "    Observation: 20°C = 68.00°F\n",
    "    \n",
    "    Answer: 20°C is equal to 68.00°F \n",
    "\n",
    "    \n",
    "    \"\"\".strip()\n",
    "\n",
    "    return ReActAgent(system_prompt)\n"
   ]
  },
  {
   "cell_type": "code",
   "execution_count": 74,
   "id": "a204ed0d-17a7-4e9b-bca1-8bdc7cb620cb",
   "metadata": {},
   "outputs": [
    {
     "name": "stdout",
     "output_type": "stream",
     "text": [
      "Thought: This is a length conversion from meters to feet. First, I need to get the conversion rate for meters to feet, so I can apply it to 100 meters.\n",
      "\n",
      "Action: model_memory: meters to feet\n",
      "PAUSE\n"
     ]
    }
   ],
   "source": [
    "agent = create_agent()\n",
    "result = agent(\"Convert 100 meters to feet?\")\n",
    "print(result)"
   ]
  },
  {
   "cell_type": "code",
   "execution_count": 75,
   "id": "2e181c47-04a3-4aab-82e5-1cf9a58c21e9",
   "metadata": {},
   "outputs": [
    {
     "name": "stdout",
     "output_type": "stream",
     "text": [
      "3.28084\n"
     ]
    }
   ],
   "source": [
    "result = model_memory(\"meters to feet\")\n",
    "print(result)"
   ]
  },
  {
   "cell_type": "code",
   "execution_count": 76,
   "id": "5da3af18-c42e-4f84-bc1e-5404b07bcff0",
   "metadata": {},
   "outputs": [
    {
     "name": "stdout",
     "output_type": "stream",
     "text": [
      "Thought: Now that I have the conversion rate of 3.28084, I can apply this conversion rate to 100 meters to get the equivalent length in feet.\n",
      "\n",
      "Action: apply_conversion: 3.28084, 100\n",
      "PAUSE\n"
     ]
    }
   ],
   "source": [
    "next_prompt = \"Observation: {}\".format(result)\n",
    "result = agent(next_prompt)\n",
    "print(result)"
   ]
  },
  {
   "cell_type": "code",
   "execution_count": 77,
   "id": "e0fa7221-3bff-425f-b730-173364863e77",
   "metadata": {},
   "outputs": [
    {
     "data": {
      "text/plain": [
       "'100.0 meters = 328.08 feet'"
      ]
     },
     "execution_count": 77,
     "metadata": {},
     "output_type": "execute_result"
    }
   ],
   "source": [
    "result = apply_conversion(\"3.28084, 100\")\n",
    "result"
   ]
  },
  {
   "cell_type": "code",
   "execution_count": 78,
   "id": "3abb4dc0-bc32-434a-b286-0bafe355f217",
   "metadata": {},
   "outputs": [
    {
     "data": {
      "text/plain": [
       "'Thought: I have now successfully converted 100 meters to feet using the conversion rate.\\n\\nAnswer: 100 meters is equal to 328.08 feet.'"
      ]
     },
     "execution_count": 78,
     "metadata": {},
     "output_type": "execute_result"
    }
   ],
   "source": [
    "next_prompt = \"Observation: {}\".format(result)\n",
    "agent(next_prompt)"
   ]
  },
  {
   "cell_type": "code",
   "execution_count": 79,
   "id": "c67537e8-e25d-45da-86f0-3b035a2ebcfb",
   "metadata": {},
   "outputs": [
    {
     "name": "stdout",
     "output_type": "stream",
     "text": [
      "[{'role': 'system', 'content': 'You run in a loop of Thought, Action, PAUSE, Observation.\\n    At the end of the loop you output an Answer\\n    Use Thought to describe your thoughts about the question you have been asked.\\n    Use Action to run one of the actions available to you - then return PAUSE.\\n    Observation will be the result of running those actions.\\n    \\n    Your available actions are:\\n    \\n    model_memory:\\n    e.g. model_memory: meters to feet\\n    Get the conversion rate for a unit (e.g., meters to feet, kilometers to miles)\\n\\n    apply_conversion: 3.28084, 5\\n    Applies the conversion rate to a value and returns a number\\n    \\n    No other actions are available to you.\\n    \\n    Example session #1:\\n    Question: Convert 5 meters to feet?\\n    \\n    Thought: This is a length conversion from meters to feet. First, I need to get the conversion rate\\n    Action: get_conversion_rate: meters to feet\\n    PAUSE\\n\\n    You will be called again with this:\\n    \\n    Observation: 3.28084\\n\\n    You then output:\\n    \\n    Thought: Now I can apply this conversion rate to 5 meters\\n    Action: apply_conversion: 3.28084, 5\\n    PAUSE\\n    \\n    Observation: 5 meters = 16.40 feet\\n    \\n    Answer: 5 meters is equal to 16.40 feet  \\n\\n    Example session #2:\\n\\n    Question:  Convert 20°C to Fahrenheit?\\n    \\n    Thought: This is a temperature conversion from Celsius to Fahrenheit. First, I need to get the conversion formula\\n    Action: model_memory: celsius to fahrenheit\\n    PAUSE\\n\\n    You will be called again with this:\\n    \\n    Observation: 9/5,32\\n\\n    You then output:\\n    \\n    Thought: Now I can apply this formula to 20°C\\n    Action: apply_conversion: 9/5,32, 20\\n    PAUSE\\n    \\n    Observation: 20°C = 68.00°F\\n    \\n    Answer: 20°C is equal to 68.00°F'}, {'role': 'user', 'content': 'Convert 100 meters to feet?'}, {'role': 'assistant', 'content': 'Thought: This is a length conversion from meters to feet. First, I need to get the conversion rate for meters to feet, so I can apply it to 100 meters.\\n\\nAction: model_memory: meters to feet\\nPAUSE'}, {'role': 'user', 'content': 'Observation: 3.28084'}, {'role': 'assistant', 'content': 'Thought: Now that I have the conversion rate of 3.28084, I can apply this conversion rate to 100 meters to get the equivalent length in feet.\\n\\nAction: apply_conversion: 3.28084, 100\\nPAUSE'}, {'role': 'user', 'content': 'Observation: 100.0 meters = 328.08 feet'}, {'role': 'assistant', 'content': 'Thought: I have now successfully converted 100 meters to feet using the conversion rate.\\n\\nAnswer: 100 meters is equal to 328.08 feet.'}]\n"
     ]
    }
   ],
   "source": [
    "print(agent.state.messages)"
   ]
  },
  {
   "cell_type": "markdown",
   "id": "f44ed0a2-7e8f-439e-9391-d8af50dec9cf",
   "metadata": {},
   "source": [
    "## Running Everythin in the Loop"
   ]
  },
  {
   "cell_type": "code",
   "execution_count": 86,
   "id": "ff6ef3d0-5143-4eb5-923c-27bb43387cc6",
   "metadata": {},
   "outputs": [],
   "source": [
    "# Available actions mapping\n",
    "KNOWN_ACTIONS = {\n",
    "    \"model_memory\": model_memory,\n",
    "    \"apply_conversion\": apply_conversion,\n",
    "}\n",
    "\n",
    "# Regular expression for parsing actions\n",
    "ACTION_PATTERN = re.compile(\"^Action: (\\w+): (.*)$\")\n",
    "\n",
    "\n",
    "def query(question: str, max_turns: int = 5) -> List[Dict[str, str]]:\n",
    "    \"\"\"\n",
    "    Process a question through multiple turns of the ReAct loop.\n",
    "\n",
    "    Args:\n",
    "        question: The user's question\n",
    "        max_turns: Maximum number of turns to process\n",
    "\n",
    "    Returns:\n",
    "        The complete conversation history\n",
    "    \"\"\"\n",
    "    agent = create_agent()\n",
    "    next_prompt = question\n",
    "\n",
    "    for turn in range(max_turns):\n",
    "        #print(f\"INFO: turn {turn+1}\")\n",
    "        result = agent(next_prompt)\n",
    "        #print(f\"\\nAgent Response:\\n{result}\")\n",
    "        print(result)\n",
    "        #print(f\"INFO: end of preliminary result\")\n",
    "        # Look for actions in the response\n",
    "        actions = [\n",
    "            ACTION_PATTERN.match(a)\n",
    "            for a in result.split(\"\\n\")\n",
    "            if ACTION_PATTERN.match(a)\n",
    "        ]\n",
    "        \n",
    "        if actions:\n",
    "            print(f\"INFO: Detected actions:{actions[0].groups()}\")\n",
    "            # Execute the action\n",
    "            action, action_input = actions[0].groups()\n",
    "            \n",
    "            if action not in KNOWN_ACTIONS:\n",
    "                raise ValueError(f\"Unknown action: {action}: {action_input}\")\n",
    "\n",
    "            print(f\"\\n ---> Executing {action} with input: {action_input}\")\n",
    "            observation = KNOWN_ACTIONS[action](action_input)\n",
    "            print(f\"Observation: {observation}\")\n",
    "            next_prompt = f\"Observation: {observation}\"\n",
    "        else:\n",
    "            break\n",
    "\n",
    "    return agent.state.messages"
   ]
  },
  {
   "cell_type": "code",
   "execution_count": 87,
   "id": "a7264908-930c-4bcc-88e3-24807f84a55b",
   "metadata": {
    "scrolled": true
   },
   "outputs": [
    {
     "name": "stdout",
     "output_type": "stream",
     "text": [
      "\n",
      "Example 1: Length Conversion\n",
      "==================================================\n",
      "Thought: This is a length conversion from meters to feet. First, I need to get the conversion rate for meters to feet, which will allow me to convert 10 meters to feet.\n",
      "\n",
      "Action: model_memory: meters to feet\n",
      "PAUSE\n",
      "INFO: Detected actions:('model_memory', 'meters to feet')\n",
      "\n",
      " ---> Executing model_memory with input: meters to feet\n",
      "Observation: 3.28084\n",
      "Thought: Now that I have the conversion rate of 3.28084, I can apply this conversion rate to 10 meters to find the equivalent length in feet.\n",
      "\n",
      "Action: apply_conversion: 3.28084, 10\n",
      "PAUSE\n",
      "INFO: Detected actions:('apply_conversion', '3.28084, 10')\n",
      "\n",
      " ---> Executing apply_conversion with input: 3.28084, 10\n",
      "Observation: 10.0 meters = 32.81 feet\n",
      "Thought: I have now successfully converted 10 meters to feet using the conversion rate.\n",
      "\n",
      "Answer: 10 meters is equal to 32.81 feet\n",
      "\n",
      "==================================================\n",
      "\n"
     ]
    }
   ],
   "source": [
    "# Example 1: Length conversion\n",
    "print(\"\\nExample 1: Length Conversion\")\n",
    "print(\"=\" * 50)\n",
    "question = \"Convert 10 meters to feet\"\n",
    "result = query(question)\n",
    "print(\"\\n\" + \"=\" * 50 + \"\\n\")"
   ]
  },
  {
   "cell_type": "code",
   "execution_count": 88,
   "id": "d89d698f-004a-4d9f-8462-6483c7c98a66",
   "metadata": {},
   "outputs": [
    {
     "name": "stdout",
     "output_type": "stream",
     "text": [
      "\n",
      "Example 2: Temperature Conversion\n",
      "==================================================\n",
      "Thought: This is a temperature conversion from Celsius to Fahrenheit. First, I need to get the conversion formula, which is typically a multiplication and addition operation. I will use the model_memory action to retrieve this formula.\n",
      "\n",
      "Action: model_memory: celsius to fahrenheit\n",
      "PAUSE\n",
      "INFO: Detected actions:('model_memory', 'celsius to fahrenheit')\n",
      "\n",
      " ---> Executing model_memory with input: celsius to fahrenheit\n",
      "Observation: 9/5,32\n",
      "Thought: Now I can apply this formula to 20°C. The formula is (9/5)*C + 32, where C is the temperature in Celsius. I will use the apply_conversion action to perform this calculation.\n",
      "\n",
      "Action: apply_conversion: 9/5, 32, 20\n",
      "PAUSE\n",
      "INFO: Detected actions:('apply_conversion', '9/5, 32, 20')\n",
      "\n",
      " ---> Executing apply_conversion with input: 9/5, 32, 20\n",
      "Observation: 20.0°C = 68.00°F\n",
      "Thought: The conversion has been successfully applied, and I have the result. Now, I can provide the final answer.\n",
      "\n",
      "Answer: 20.0°C is equal to 68.00°F\n",
      "\n",
      "==================================================\n",
      "\n"
     ]
    }
   ],
   "source": [
    "# Example 2: Temperature conversion\n",
    "print(\"\\nExample 2: Temperature Conversion\")\n",
    "print(\"=\" * 50)\n",
    "question = \"Convert 20°C to Fahrenheit\"\n",
    "result = query(question)\n",
    "print(\"\\n\" + \"=\" * 50 + \"\\n\")"
   ]
  },
  {
   "cell_type": "code",
   "execution_count": 89,
   "id": "b82a0219-8968-4e34-9aca-f447b57425dd",
   "metadata": {},
   "outputs": [
    {
     "name": "stdout",
     "output_type": "stream",
     "text": [
      "\n",
      "Example 3: Weight Conversion\n",
      "==================================================\n",
      "Thought: This is a weight conversion from kilograms to pounds. First, I need to get the conversion rate\n",
      "Action: model_memory: kilograms to pounds\n",
      "PAUSE\n",
      "INFO: Detected actions:('model_memory', 'kilograms to pounds')\n",
      "\n",
      " ---> Executing model_memory with input: kilograms to pounds\n",
      "Observation: 2.20462\n",
      "Thought: Now I can apply this conversion rate to 10 kilograms\n",
      "Action: apply_conversion: 2.20462, 10\n",
      "PAUSE\n",
      "INFO: Detected actions:('apply_conversion', '2.20462, 10')\n",
      "\n",
      " ---> Executing apply_conversion with input: 2.20462, 10\n",
      "Observation: 10.0 kilograms = 22.05 pounds\n",
      "Thought: The conversion of 10 kilograms to pounds has been successfully calculated\n",
      "Answer: 10 kilograms is equal to 22.05 pounds\n",
      "\n",
      "==================================================\n",
      "\n"
     ]
    }
   ],
   "source": [
    "# Example 3: Weight conversion\n",
    "print(\"\\nExample 3: Weight Conversion\")\n",
    "print(\"=\" * 50)\n",
    "question = \"Convert 10 kilograms to pounds\"\n",
    "result = query(question)\n",
    "print(\"\\n\" + \"=\" * 50 + \"\\n\")"
   ]
  },
  {
   "cell_type": "code",
   "execution_count": 338,
   "id": "f85d8f86-b2a7-48bb-acca-0339e3b8b102",
   "metadata": {},
   "outputs": [
    {
     "name": "stdout",
     "output_type": "stream",
     "text": [
      "\n",
      "Example 4: Distance Conversion\n",
      "==================================================\n",
      "Thought: This is a length conversion from kilometers to miles. First, I need to get the conversion rate for kilometers to miles.\n",
      "\n",
      "Action: get_conversion_rate: kilometers to miles\n",
      "PAUSE\n",
      "\n",
      " ---> Executing get_conversion_rate with input: kilometers to miles\n",
      "Observation: 0.621371\n",
      "Thought: Now that I have the conversion rate, I can apply it to 3 kilometers to get the equivalent distance in miles.\n",
      "\n",
      "Action: apply_conversion: 0.621371, 3\n",
      "PAUSE\n",
      "\n",
      " ---> Executing apply_conversion with input: 0.621371, 3\n",
      "Observation: 3.0 miles = 1.86 miles\n",
      "Thought: It seems there was an error in the previous observation. However, I will proceed with the correct calculation. The correct conversion of 3 kilometers to miles using the conversion rate 0.621371 is actually 3 * 0.621371 = 1.864113 miles, which can be rounded to 1.86 miles.\n",
      "\n",
      "Answer: 3 kilometers is equal to 1.86 miles.\n",
      "\n",
      "==================================================\n",
      "\n"
     ]
    }
   ],
   "source": [
    "\n",
    "# Example 4: Distance conversion\n",
    "print(\"\\nExample 4: Distance Conversion\")\n",
    "print(\"=\" * 50)\n",
    "question = \"Convert 3 kilometers to miles\"\n",
    "result = query(question)\n",
    "print(\"\\n\" + \"=\" * 50 + \"\\n\")"
   ]
  },
  {
   "cell_type": "markdown",
   "id": "de5baba2",
   "metadata": {},
   "source": [
    "# 🎮 Mission Accomplished!\n",
    "\n",
    "**Your ReAct agent is now operational with capabilities to:**\n",
    "- Navigate complex problems using structured reasoning cycles\n",
    "- Connect with and utilize external tools\n",
    "- Preserve dialogue history and context\n",
    "- Break down and solve multi-stage challenges"
   ]
  },
  {
   "cell_type": "code",
   "execution_count": null,
   "id": "f3136c05-208e-4d69-ac62-6c9d973c4c8c",
   "metadata": {},
   "outputs": [],
   "source": []
  }
 ],
 "metadata": {
  "kernelspec": {
   "display_name": "Python 3 (ipykernel)",
   "language": "python",
   "name": "python3"
  },
  "language_info": {
   "codemirror_mode": {
    "name": "ipython",
    "version": 3
   },
   "file_extension": ".py",
   "mimetype": "text/x-python",
   "name": "python",
   "nbconvert_exporter": "python",
   "pygments_lexer": "ipython3",
   "version": "3.11.11"
  }
 },
 "nbformat": 4,
 "nbformat_minor": 5
}
