{
 "cells": [
  {
   "cell_type": "markdown",
   "metadata": {
    "id": "8mXUrilI0FHb"
   },
   "source": [
    "<a href=\"https://colab.research.google.com/github/jrgreen7/SYSC4906/blob/master/W2025/Tutorials/T8/Tutorial-8_ActiveLearning.ipynb\" target=\"_blank\"><img src=\"https://colab.research.google.com/assets/colab-badge.svg\" alt=\"Open In Colab\"/></a>"
   ]
  },
  {
   "cell_type": "markdown",
   "metadata": {
    "id": "8mXUrilI0FHb"
   },
   "source": [
    "# Tutorial 8 - Active Learning\n",
    "\n",
    "**Course:** SYSC 4415 - Introduction to Machine Learning\n",
    "\n",
    "**Semester:** Winter 2025\n",
    "\n",
    "**Adapted by:** [Kevin Dick](https://kevindick.ai/), [Igor Bogdanov](igorbogdanov@cmail.carleton.ca)\n",
    "\n",
    "**Part II adapted from:** Clay Woolam <clay@woolam.org> under a BSD License.\n",
    "\n",
    "---\n",
    "## Active Learning\n",
    "\n",
    "Active learning is a machine learning approach useful when labeled data is limited or costly to obtain. The process starts by training a model using the available labeled data. This model then predicts labels on a typically larger set of unlabeled instances. From these predictions, the model identifies instances where it's least confident (most uncertain predictions). A human expert (often called an \"oracle\") labels these uncertain data points, expanding the labeled dataset.\n",
    "\n",
    "The model is then retrained using the expanded labeled dataset, refining its predictions. This cycle—selecting uncertain data points, querying an oracle, and retraining—is repeated iteratively until a stopping criterion (such as accuracy threshold or labeling budget) is satisfied.\n",
    "\n",
    "### Illustrative Example (Handwritten Digits using Label Propagation)\n",
    "\n",
    "In this tutorial, we demonstrate an active learning-inspired approach applied to handwritten digit classification using a semi-supervised method known as \"label propagation\":\n",
    "\n",
    "1. Start by training a model using only 40 labeled digit images.\n",
    "3. Identify the five unlabeled images where the model is least confident.\n",
    "4. Obtain labels from an oracle (human annotator).\n",
    "5. Retrain the model with the newly expanded dataset (initial 40 labels + 5 newly labeled instances).\n",
    "6. Repeat this iterative process, incrementally growing the labeled dataset and refining model accuracy.\n",
    "\n",
    "After multiple iterations (e.g., four iterations), the model is trained with 60 labeled instances, significantly improving accuracy compared to the initial model trained on just 40 labels.\n",
    "\n",
    "Note: you can increase this to label more than 60 by changing `max_iterations`. Labeling more than 60 can be useful to get a sense of the speed of convergence of this active learning technique.\n",
    "\n",
    "A plot illustrates the top five most uncertain digits chosen at each iteration, visualizing the model's progressive improvement. "
   ]
  },
  {
   "cell_type": "code",
   "execution_count": 1,
   "metadata": {
    "colab": {
     "base_uri": "https://localhost:8080/"
    },
    "id": "eKvWICRWz0O8",
    "outputId": "a8f57c46-e440-420e-9fef-21ab5847bd63"
   },
   "outputs": [
    {
     "name": "stdout",
     "output_type": "stream",
     "text": [
      "Full dataset shape: (1797, 64)\n",
      "Number of samples in full dataset: 1797\n",
      "Total elements in the array: 115008\n"
     ]
    },
    {
     "data": {
      "image/png": "[encoded data removed]",
      "text/plain": [
       "<Figure size 500x400 with 30 Axes>"
      ]
     },
     "metadata": {},
     "output_type": "display_data"
    }
   ],
   "source": [
    "import numpy as np\n",
    "import matplotlib.pyplot as plt\n",
    "from scipy import stats\n",
    "\n",
    "get_ipython().run_line_magic(\"matplotlib\", \"inline\")\n",
    "\n",
    "from sklearn import datasets\n",
    "from sklearn.semi_supervised import LabelPropagation, LabelSpreading\n",
    "from sklearn.metrics import classification_report, confusion_matrix\n",
    "from sklearn.metrics import accuracy_score\n",
    "\n",
    "# Load the dataset and shuffle the order of data\n",
    "digits = datasets.load_digits()\n",
    "rng = np.random.RandomState(0)\n",
    "indices = np.arange(len(digits.data))\n",
    "rng.shuffle(indices)\n",
    "\n",
    "print(\n",
    "    \"Full dataset shape:\", digits.data.shape\n",
    ")  # Shows dimensions (n_samples, n_features)\n",
    "print(\"Number of samples in full dataset:\", len(digits.data))\n",
    "print(\"Total elements in the array:\", digits.data.size)  # Total number of elements\n",
    "\n",
    "# Define subset size\n",
    "subset_size = 500\n",
    "\n",
    "# Grab a subset of the data (500 random labeled samples)\n",
    "X = digits.data[indices[:subset_size]]\n",
    "y = digits.target[indices[:subset_size]]  # This is where the labels are stored\n",
    "images = digits.images[indices[:subset_size]]\n",
    "\n",
    "# Display a sample of the dataset\n",
    "fig, axes = plt.subplots(5, 6, figsize=(5, 4))  # Reduced from (10, 8) to (5, 4)\n",
    "\n",
    "# Ensure we have exactly 30 samples\n",
    "sample_indices = rng.choice(len(images), 30, replace=False)\n",
    "\n",
    "# Flatten the axes array for easier iteration\n",
    "axes_flat = axes.flatten()\n",
    "\n",
    "# Iterate through each sample and corresponding axis\n",
    "for i in range(30):\n",
    "    ax = axes_flat[i]\n",
    "    idx = sample_indices[i]\n",
    "    ax.imshow(images[idx], cmap=plt.cm.gray_r)\n",
    "    ax.set_title(f\"Label: {y[idx]}\", fontsize=6)  # Reduced font size from 8 to 6\n",
    "    ax.axis(\"off\")\n",
    "\n",
    "plt.suptitle(\n",
    "    \"Sample of Handwritten Digits Dataset\", fontsize=10\n",
    ")  # Reduced title font size\n",
    "plt.tight_layout()\n",
    "\n",
    "plt.show()"
   ]
  },
  {
   "cell_type": "markdown",
   "metadata": {
    "id": "0GXB9awn0JOr"
   },
   "source": [
    "### Begin Active Learning\n",
    "\n",
    "We run through four iterations of model refinement and then summarize the results.\n"
   ]
  },
  {
   "cell_type": "code",
   "execution_count": 2,
   "metadata": {
    "colab": {
     "base_uri": "https://localhost:8080/",
     "height": 1000
    },
    "id": "DcT6jboM0Met",
    "outputId": "7cbf1d5a-6d00-4e97-8eb7-dcb2ac6d4d05"
   },
   "outputs": [
    {
     "name": "stdout",
     "output_type": "stream",
     "text": [
      "\n",
      "Dataset Info:\n",
      "Total samples in subset: 500\n",
      "Image shape: (8, 8)\n",
      "Number of classes: 10\n",
      "Initial labeled points: 40\n"
     ]
    }
   ],
   "source": [
    "print(\"\\nDataset Info:\")\n",
    "print(f\"Total samples in subset: {len(y)}\")\n",
    "print(f\"Image shape: {images[0].shape}\")\n",
    "print(f\"Number of classes: {len(np.unique(y))}\")\n",
    "\n",
    "n_total_samples = len(y)\n",
    "n_labeled_points = 40  # Start with 40 labelled points\n",
    "\n",
    "max_iterations = 5  # Add 5 newly labelled points at each iteration.\n",
    "\n",
    "unlabeled_indices = np.arange(n_total_samples)[\n",
    "    n_labeled_points:\n",
    "]  # Create nparray of indices between 40..499\n",
    "\n",
    "f = plt.figure()\n",
    "\n",
    "print(f\"Initial labeled points: {n_labeled_points}\")\n",
    "\n",
    "# Create arrays to store results across all iterations\n",
    "all_accuracies = []\n",
    "all_labeled_counts = []\n",
    "all_models = []\n",
    "all_uncertain_indices = []\n",
    "all_confusion_matrices = []\n"
   ]
  },
  {
   "cell_type": "code",
   "execution_count": 13,
   "metadata": {},
   "outputs": [
    {
     "name": "stdout",
     "output_type": "stream",
     "text": [
      "\n",
      "\n",
      "# Step 1: Train initial model with only 40 labeled samples\n",
      "======================================================================\n",
      "Training initial model with 40 labeled samples...\n",
      "Initial model trained with 40 labeled samples\n",
      "Unlabeled samples: 460\n",
      "Total samples: 500\n",
      "\n",
      "Initial model performance on unlabeled data:\n",
      "              precision    recall  f1-score   support\n",
      "\n",
      "           0       1.00      1.00      1.00        40\n",
      "           1       0.91      0.71      0.80        42\n",
      "           2       1.00      0.98      0.99        46\n",
      "           3       0.97      0.65      0.78        49\n",
      "           4       0.93      1.00      0.96        40\n",
      "           5       0.98      0.88      0.93        51\n",
      "           6       0.88      0.98      0.92        50\n",
      "           7       0.96      1.00      0.98        46\n",
      "           8       0.78      0.96      0.86        49\n",
      "           9       0.71      0.85      0.78        47\n",
      "\n",
      "    accuracy                           0.90       460\n",
      "   macro avg       0.91      0.90      0.90       460\n",
      "weighted avg       0.91      0.90      0.90       460\n",
      "\n",
      "\n",
      "Confusion matrix for initial model:\n",
      "[[40  0  0  0  0  0  0  0  0  0]\n",
      " [ 0 30  0  0  0  0  7  0  5  0]\n",
      " [ 0  0 45  1  0  0  0  0  0  0]\n",
      " [ 0  0  0 32  0  0  0  0  7 10]\n",
      " [ 0  0  0  0 40  0  0  0  0  0]\n",
      " [ 0  0  0  0  0 45  0  0  0  6]\n",
      " [ 0  1  0  0  0  0 49  0  0  0]\n",
      " [ 0  0  0  0  0  0  0 46  0  0]\n",
      " [ 0  2  0  0  0  0  0  0 47  0]\n",
      " [ 0  0  0  0  3  1  0  2  1 40]]\n",
      "\n",
      "Understanding Confusion Matrix Metrics:\n",
      "For Multi-class Classification (Your Digit Recognition Case)\n",
      "In a multi-class problem like digit recognition (0-9), we can calculate metrics for each digit separately:\n",
      "\n",
      "For a specific digit (e.g., digit \"3\"):\n",
      "True Positives (TP): The number of actual \"3\"s correctly classified as \"3\"\n",
      "  This is the diagonal element for class \"3\" (32 in the generated matrix)\n",
      "False Positives (FP): The number of non-\"3\" digits incorrectly classified as \"3\"\n",
      "  This is the sum of all other values in the \"3\" column (excluding the diagonal): 1\n",
      "False Negatives (FN): The number of actual \"3\"s incorrectly classified as something else\n",
      "  This is the sum of all other values in the \"3\" row (excluding the diagonal): 17 (7 as 8 + 10 as 9)\n",
      "True Negatives (TN): The number of non-\"3\" digits correctly classified as non-\"3\"\n",
      "  This is the sum of all other diagonal elements: 410\n",
      "\n",
      "Derived metrics for digit 3:\n",
      "Precision: 0.9697 (How many predicted 3s are actually 3s)\n",
      "Recall: 0.6531 (How many actual 3s were correctly identified)\n",
      "F1 Score: 0.7805 (Harmonic mean of precision and recall)\n"
     ]
    }
   ],
   "source": [
    "# Step 1: Train initial model with only 40 labeled samples\n",
    "print(\"\\n\\n# Step 1: Train initial model with only 40 labeled samples\")\n",
    "print(\"=\" * 70)\n",
    "\n",
    "# Create training data with only 40 labeled samples\n",
    "y_train = np.copy(y)\n",
    "y_train[unlabeled_indices] = -1  # Mark unlabeled samples with -1\n",
    "\n",
    "# Train a label propagation model\n",
    "print(f\"Training initial model with {n_labeled_points} labeled samples...\")\n",
    "lp_model = LabelSpreading(gamma=0.25, max_iter=20)\n",
    "lp_model.fit(X, y_train)\n",
    "\n",
    "# Evaluate initial model on unlabeled data\n",
    "predicted_labels = lp_model.transduction_[unlabeled_indices]\n",
    "true_labels = y[unlabeled_indices]\n",
    "\n",
    "\n",
    "# Compute the confusion matrix for initial model\n",
    "cm_initial = confusion_matrix(true_labels, predicted_labels, labels=lp_model.classes_)\n",
    "\n",
    "# Store results for iteration 0\n",
    "all_models.append(lp_model)\n",
    "all_accuracies.append(accuracy_score(true_labels, predicted_labels))\n",
    "all_labeled_counts.append(n_labeled_points)\n",
    "all_confusion_matrices.append(cm_initial)\n",
    "\n",
    "# Print initial model performance\n",
    "print(f\"Initial model trained with {n_labeled_points} labeled samples\")\n",
    "print(f\"Unlabeled samples: {len(unlabeled_indices)}\")\n",
    "print(f\"Total samples: {n_total_samples}\")\n",
    "print(\"\\nInitial model performance on unlabeled data:\")\n",
    "print(classification_report(true_labels, predicted_labels))\n",
    "\n",
    "print(\"\\nConfusion matrix for initial model:\")\n",
    "print(cm_initial)\n",
    "\n",
    "\n",
    "# Get actual values from the confusion matrix for digit 3\n",
    "digit_to_explain = 3  # We'll use digit 3 as our example\n",
    "true_positives = cm_initial[digit_to_explain, digit_to_explain]\n",
    "false_negatives = sum(cm_initial[digit_to_explain, :]) - true_positives\n",
    "false_positives = sum(cm_initial[:, digit_to_explain]) - true_positives\n",
    "true_negatives = cm_initial.sum() - true_positives - false_positives - false_negatives\n",
    "\n",
    "# Calculate metrics\n",
    "precision = (\n",
    "    true_positives / (true_positives + false_positives)\n",
    "    if (true_positives + false_positives) > 0\n",
    "    else 0\n",
    ")\n",
    "recall = (\n",
    "    true_positives / (true_positives + false_negatives)\n",
    "    if (true_positives + false_negatives) > 0\n",
    "    else 0\n",
    ")\n",
    "f1 = 2 * (precision * recall) / (precision + recall) if (precision + recall) > 0 else 0\n",
    "\n",
    "# Add explanation of confusion matrix metrics with actual values\n",
    "print(\"\\nUnderstanding Confusion Matrix Metrics:\")\n",
    "print(\"For Multi-class Classification (Your Digit Recognition Case)\")\n",
    "print(\n",
    "    \"In a multi-class problem like digit recognition (0-9), we can calculate metrics for each digit separately:\"\n",
    ")\n",
    "print(f'\\nFor a specific digit (e.g., digit \"{digit_to_explain}\"):')\n",
    "print(f'True Positives (TP): The number of actual \"{digit_to_explain}\"s correctly classified as \"{digit_to_explain}\"')\n",
    "print(f'  This is the diagonal element for class \"{digit_to_explain}\" ({true_positives} in the generated matrix)')\n",
    "\n",
    "print(f'False Positives (FP): The number of non-\"{digit_to_explain}\" digits incorrectly classified as \"{digit_to_explain}\"')\n",
    "print(f'  This is the sum of all other values in the \"{digit_to_explain}\" column (excluding the diagonal): {false_positives}')\n",
    "\n",
    "print(f'False Negatives (FN): The number of actual \"{digit_to_explain}\"s incorrectly classified as something else')\n",
    "fn_details = [\n",
    "    f\"{cm_initial[digit_to_explain, j]} as {j}\"\n",
    "    for j in range(10)\n",
    "    if j != digit_to_explain and cm_initial[digit_to_explain, j] > 0\n",
    "]\n",
    "fn_details_str = \" + \".join(fn_details)\n",
    "print(f'  This is the sum of all other values in the \"{digit_to_explain}\" row (excluding the diagonal): {false_negatives} ({fn_details_str})')\n",
    "\n",
    "print(f'True Negatives (TN): The number of non-\"{digit_to_explain}\" digits correctly classified as non-\"{digit_to_explain}\"')\n",
    "print(f\"  This is the sum of all other diagonal elements: {true_negatives}\")\n",
    "\n",
    "print(f\"\\nDerived metrics for digit {digit_to_explain}:\")\n",
    "print(f\"Precision: {precision:.4f} (How many predicted {digit_to_explain}s are actually {digit_to_explain}s)\")\n",
    "print(f\"Recall: {recall:.4f} (How many actual {digit_to_explain}s were correctly identified)\")\n",
    "print(f\"F1 Score: {f1:.4f} (Harmonic mean of precision and recall)\")\n"
   ]
  },
  {
   "cell_type": "code",
   "execution_count": 4,
   "metadata": {},
   "outputs": [
    {
     "name": "stdout",
     "output_type": "stream",
     "text": [
      "\n",
      "\n",
      "# Step 2: Identify uncertain samples (Active Learning selection strategy)\n",
      "======================================================================\n",
      "Computing uncertainty for each unlabeled sample...\n",
      "Selected 5 most uncertain samples\n",
      "Entropy values for selected samples:\n",
      "  Sample 324: Entropy = 0.6933, True label = 9\n",
      "  Sample 81: Entropy = 0.2880, True label = 3\n",
      "  Sample 479: Entropy = 0.2872, True label = 3\n",
      "  Sample 227: Entropy = 0.2850, True label = 3\n",
      "  Sample 486: Entropy = 0.2678, True label = 3\n"
     ]
    }
   ],
   "source": [
    "# Step 2: Identify uncertain samples (Active Learning selection strategy)\n",
    "print(\"\\n\\n# Step 2: Identify uncertain samples (Active Learning selection strategy)\")\n",
    "print(\"=\" * 70)\n",
    "\n",
    "# Compute uncertainty using entropy of predicted probability distributions\n",
    "print(\"Computing uncertainty for each unlabeled sample...\")\n",
    "pred_entropies = stats.distributions.entropy(lp_model.label_distributions_.T)\n",
    "\n",
    "# Select the 5 most uncertain samples\n",
    "uncertainty_index = np.argsort(pred_entropies)[::-1]\n",
    "uncertainty_index = uncertainty_index[np.in1d(uncertainty_index, unlabeled_indices)][:5]\n",
    "\n",
    "all_uncertain_indices.append(uncertainty_index)\n",
    "\n",
    "print(f\"Selected {len(uncertainty_index)} most uncertain samples\")\n",
    "print(\"Entropy values for selected samples:\")\n",
    "for idx in uncertainty_index:\n",
    "    print(f\"  Sample {idx}: Entropy = {pred_entropies[idx]:.4f}, True label = {y[idx]}\")"
   ]
  },
  {
   "cell_type": "code",
   "execution_count": 5,
   "metadata": {},
   "outputs": [
    {
     "name": "stdout",
     "output_type": "stream",
     "text": [
      "\n",
      "\n",
      "# Step 3: Visualize the uncertain samples (simulating oracle labeling)\n",
      "======================================================================\n"
     ]
    },
    {
     "data": {
      "text/plain": [
       "<Figure size 640x480 with 0 Axes>"
      ]
     },
     "metadata": {},
     "output_type": "display_data"
    },
    {
     "data": {
      "image/png": "[encoded data removed]",
      "text/plain": [
       "<Figure size 500x300 with 5 Axes>"
      ]
     },
     "metadata": {},
     "output_type": "display_data"
    }
   ],
   "source": [
    "# Step 3: Visualize the uncertain samples (simulating oracle labeling)\n",
    "print(\"\\n\\n# Step 3: Visualize the uncertain samples (simulating oracle labeling)\")\n",
    "print(\"=\" * 70)\n",
    "\n",
    "# Create a figure to display the uncertain samples\n",
    "plt.figure(figsize=(5, 3))\n",
    "for i, idx in enumerate(uncertainty_index):\n",
    "    plt.subplot(1, 5, i + 1)\n",
    "    plt.imshow(images[idx], cmap=plt.cm.gray_r)\n",
    "    plt.title(f\"True: {y[idx]}\\nPred: {lp_model.transduction_[idx]}\", fontsize=10)\n",
    "    plt.axis(\"off\")\n",
    "plt.suptitle(\"5 Most Uncertain Samples (Oracle Labeling)\", fontsize=12)\n",
    "plt.tight_layout()\n",
    "plt.show()"
   ]
  },
  {
   "cell_type": "code",
   "execution_count": 6,
   "metadata": {},
   "outputs": [
    {
     "name": "stdout",
     "output_type": "stream",
     "text": [
      "\n",
      "\n",
      "# Step 4: Update labeled dataset with oracle labels\n",
      "======================================================================\n",
      "Added 5 new labeled samples\n",
      "Labeled samples increased from 40 to 45\n",
      "Remaining unlabeled samples: 455\n"
     ]
    }
   ],
   "source": [
    "# Step 4: Update labeled dataset with oracle labels\n",
    "print(\"\\n\\n# Step 4: Update labeled dataset with oracle labels\")\n",
    "print(\"=\" * 70)\n",
    "\n",
    "# Track indices to remove from unlabeled set\n",
    "delete_indices = np.array([], dtype=int)\n",
    "for idx in uncertainty_index:\n",
    "    # Find position in unlabeled_indices array\n",
    "    (delete_index,) = np.where(unlabeled_indices == idx)\n",
    "    delete_indices = np.concatenate((delete_indices, delete_index))\n",
    "\n",
    "# Update the sets\n",
    "old_n_labeled = n_labeled_points\n",
    "unlabeled_indices = np.delete(unlabeled_indices, delete_indices)\n",
    "n_labeled_points += len(uncertainty_index)\n",
    "\n",
    "print(f\"Added {len(uncertainty_index)} new labeled samples\")\n",
    "print(f\"Labeled samples increased from {old_n_labeled} to {n_labeled_points}\")\n",
    "print(f\"Remaining unlabeled samples: {len(unlabeled_indices)}\")"
   ]
  },
  {
   "cell_type": "code",
   "execution_count": 7,
   "metadata": {},
   "outputs": [
    {
     "name": "stdout",
     "output_type": "stream",
     "text": [
      "\n",
      "\n",
      "# Step 5: Re-train model with expanded labeled dataset\n",
      "======================================================================\n",
      "Training updated model with 45 labeled samples...\n",
      "Updated model trained with 45 labeled samples\n",
      "\n",
      "Updated model performance on remaining unlabeled data:\n",
      "              precision    recall  f1-score   support\n",
      "\n",
      "           0       1.00      1.00      1.00        40\n",
      "           1       0.91      0.71      0.80        42\n",
      "           2       1.00      0.98      0.99        46\n",
      "           3       0.97      0.84      0.90        45\n",
      "           4       0.93      1.00      0.96        40\n",
      "           5       1.00      0.75      0.85        51\n",
      "           6       0.88      0.98      0.92        50\n",
      "           7       1.00      1.00      1.00        46\n",
      "           8       0.82      0.96      0.89        49\n",
      "           9       0.72      0.91      0.81        46\n",
      "\n",
      "    accuracy                           0.91       455\n",
      "   macro avg       0.92      0.91      0.91       455\n",
      "weighted avg       0.92      0.91      0.91       455\n",
      "\n",
      "\n",
      "Confusion matrix for updated model:\n",
      "[[40  0  0  0  0  0  0  0  0  0]\n",
      " [ 0 30  0  0  0  0  7  0  5  0]\n",
      " [ 0  0 45  1  0  0  0  0  0  0]\n",
      " [ 0  0  0 38  0  0  0  0  4  3]\n",
      " [ 0  0  0  0 40  0  0  0  0  0]\n",
      " [ 0  0  0  0  0 38  0  0  0 13]\n",
      " [ 0  1  0  0  0  0 49  0  0  0]\n",
      " [ 0  0  0  0  0  0  0 46  0  0]\n",
      " [ 0  2  0  0  0  0  0  0 47  0]\n",
      " [ 0  0  0  0  3  0  0  0  1 42]]\n"
     ]
    }
   ],
   "source": [
    "# Step 5: Re-train model with expanded labeled dataset\n",
    "print(\"\\n\\n# Step 5: Re-train model with expanded labeled dataset\")\n",
    "print(\"=\" * 70)\n",
    "\n",
    "# Create updated training data\n",
    "y_train = np.copy(y)\n",
    "y_train[unlabeled_indices] = -1  # Mark remaining unlabeled samples with -1\n",
    "\n",
    "# Train updated model\n",
    "print(f\"Training updated model with {n_labeled_points} labeled samples...\")\n",
    "lp_model_updated = LabelSpreading(gamma=0.25, max_iter=20)\n",
    "lp_model_updated.fit(X, y_train)\n",
    "\n",
    "# Evaluate updated model\n",
    "predicted_labels_updated = lp_model_updated.transduction_[unlabeled_indices]\n",
    "true_labels_updated = y[unlabeled_indices]\n",
    "\n",
    "# Compute the confusion matrix for updated model\n",
    "cm_updated = confusion_matrix(\n",
    "    true_labels_updated, predicted_labels_updated, labels=lp_model_updated.classes_\n",
    ")\n",
    "\n",
    "# Store results for iteration 1\n",
    "all_models.append(lp_model_updated)\n",
    "all_accuracies.append(accuracy_score(true_labels_updated, predicted_labels_updated))\n",
    "all_labeled_counts.append(n_labeled_points)\n",
    "all_confusion_matrices.append(cm_updated)\n",
    "\n",
    "print(f\"Updated model trained with {n_labeled_points} labeled samples\")\n",
    "print(\"\\nUpdated model performance on remaining unlabeled data:\")\n",
    "print(classification_report(true_labels_updated, predicted_labels_updated))\n",
    "\n",
    "print(\"\\nConfusion matrix for updated model:\")\n",
    "print(cm_updated)"
   ]
  },
  {
   "cell_type": "code",
   "execution_count": 8,
   "metadata": {},
   "outputs": [
    {
     "name": "stdout",
     "output_type": "stream",
     "text": [
      "\n",
      "\n",
      "# Step 6: Compare initial and updated model performance\n",
      "======================================================================\n",
      "Initial model accuracy (40 labeled samples): 0.9000\n",
      "Updated model accuracy (45 labeled samples): 0.9121\n",
      "Accuracy improvement: 1.21%\n"
     ]
    }
   ],
   "source": [
    "# Step 6: Compare initial and updated model performance\n",
    "print(\"\\n\\n# Step 6: Compare initial and updated model performance\")\n",
    "print(\"=\" * 70)\n",
    "\n",
    "# Calculate accuracy for both models\n",
    "\n",
    "initial_accuracy = all_accuracies[0]\n",
    "updated_accuracy = all_accuracies[1]\n",
    "\n",
    "print(f\"Initial model accuracy (40 labeled samples): {initial_accuracy:.4f}\")\n",
    "print(f\"Updated model accuracy (45 labeled samples): {updated_accuracy:.4f}\")\n",
    "print(f\"Accuracy improvement: {(updated_accuracy - initial_accuracy) * 100:.2f}%\")"
   ]
  },
  {
   "cell_type": "code",
   "execution_count": 9,
   "metadata": {},
   "outputs": [
    {
     "name": "stdout",
     "output_type": "stream",
     "text": [
      "\n",
      "\n",
      "# Step 7: Continue with iterative process\n",
      "======================================================================\n",
      "The active learning process continues iteratively:\n",
      "1. Identify uncertain samples\n",
      "2. Get oracle labels\n",
      "3. Update labeled dataset\n",
      "4. Retrain model\n",
      "5. Evaluate improvement\n",
      "This cycle repeats until a stopping criterion is met (e.g., accuracy threshold or labeling budget).\n",
      "\n",
      "Iteration 2:\n",
      "--------------------------------------------------\n",
      "Model trained with 50 labeled samples\n",
      "Accuracy: 0.9378\n",
      "Improvement from initial: 3.78%\n",
      "\n",
      "Iteration 3:\n",
      "--------------------------------------------------\n",
      "Model trained with 55 labeled samples\n",
      "Accuracy: 0.9348\n",
      "Improvement from initial: 3.48%\n",
      "\n",
      "Iteration 4:\n",
      "--------------------------------------------------\n",
      "Model trained with 60 labeled samples\n",
      "Accuracy: 0.9409\n",
      "Improvement from initial: 4.09%\n",
      "\n",
      "\n",
      "# Visualization of Active Learning Iterations\n",
      "======================================================================\n"
     ]
    },
    {
     "data": {
      "image/png": "[encoded data removed]",
      "text/plain": [
       "<Figure size 800x1000 with 20 Axes>"
      ]
     },
     "metadata": {},
     "output_type": "display_data"
    }
   ],
   "source": [
    "# Step 7: Continue with iterative process\n",
    "print(\"\\n\\n# Step 7: Continue with iterative process\")\n",
    "print(\"=\" * 70)\n",
    "print(\"The active learning process continues iteratively:\")\n",
    "print(\"1. Identify uncertain samples\")\n",
    "print(\"2. Get oracle labels\")\n",
    "print(\"3. Update labeled dataset\")\n",
    "print(\"4. Retrain model\")\n",
    "print(\"5. Evaluate improvement\")\n",
    "print(\n",
    "    \"This cycle repeats until a stopping criterion is met (e.g., accuracy threshold or labeling budget).\"\n",
    ")\n",
    "\n",
    "for i in range(2, max_iterations):\n",
    "    print(f\"\\nIteration {i}:\")\n",
    "    print(\"-\" * 50)\n",
    "\n",
    "    # Get current model and unlabeled indices\n",
    "    current_model = all_models[-1]\n",
    "\n",
    "    # Compute uncertainty\n",
    "    pred_entropies = stats.distributions.entropy(current_model.label_distributions_.T)\n",
    "    uncertainty_index = np.argsort(pred_entropies)[::-1]\n",
    "    uncertainty_index = uncertainty_index[\n",
    "        np.in1d(uncertainty_index, unlabeled_indices)\n",
    "    ][:5]\n",
    "    all_uncertain_indices.append(uncertainty_index)\n",
    "\n",
    "    # Update labeled set\n",
    "    delete_indices = np.array([], dtype=int)\n",
    "    for idx in uncertainty_index:\n",
    "        (delete_index,) = np.where(unlabeled_indices == idx)\n",
    "        delete_indices = np.concatenate((delete_indices, delete_index))\n",
    "\n",
    "    unlabeled_indices = np.delete(unlabeled_indices, delete_indices)\n",
    "    n_labeled_points += len(uncertainty_index)\n",
    "\n",
    "    # Train and evaluate new model\n",
    "    y_train = np.copy(y)\n",
    "    y_train[unlabeled_indices] = -1\n",
    "    new_model = LabelSpreading(gamma=0.25, max_iter=20)\n",
    "    new_model.fit(X, y_train)\n",
    "\n",
    "    # Evaluate\n",
    "    preds = new_model.transduction_[unlabeled_indices]\n",
    "    true = y[unlabeled_indices]\n",
    "    acc = accuracy_score(true, preds)\n",
    "    cm = confusion_matrix(true, preds, labels=new_model.classes_)\n",
    "\n",
    "    # Store results\n",
    "    all_models.append(new_model)\n",
    "    all_accuracies.append(acc)\n",
    "    all_labeled_counts.append(n_labeled_points)\n",
    "    all_confusion_matrices.append(cm)\n",
    "\n",
    "    print(f\"Model trained with {n_labeled_points} labeled samples\")\n",
    "    print(f\"Accuracy: {acc:.4f}\")\n",
    "    print(f\"Improvement from initial: {(acc - initial_accuracy) * 100:.2f}%\")\n",
    "\n",
    "# Create visualization of all iterations (similar to original implementation)\n",
    "print(\"\\n\\n# Visualization of Active Learning Iterations\")\n",
    "print(\"=\" * 70)\n",
    "\n",
    "# Reset variables to initial state\n",
    "n_labeled_points = 40\n",
    "unlabeled_indices = np.arange(n_total_samples)[n_labeled_points:]\n",
    "\n",
    "# Create figure for visualization\n",
    "f = plt.figure(figsize=(8, 10))\n",
    "\n",
    "\n",
    "# Visualize the uncertain samples for each iteration\n",
    "for i in range(min(5, len(all_uncertain_indices))):\n",
    "    # Add iteration label\n",
    "    f.text(\n",
    "        0.05,\n",
    "        (1 - (i + 1) * 0.183),\n",
    "        f\"model {i+1}\\n\\nfit with\\n{all_labeled_counts[i]} labels\",\n",
    "        size=10,\n",
    "    )\n",
    "\n",
    "    # Add the 5 most uncertain samples\n",
    "    for j, idx in enumerate(all_uncertain_indices[i]):\n",
    "        sub = f.add_subplot(5, 5, j + 1 + (5 * i))\n",
    "        sub.imshow(images[idx], cmap=plt.cm.gray_r, interpolation=\"none\")\n",
    "        sub.set_title(\n",
    "            f\"predict: {all_models[i].transduction_[idx]}\\ntrue: {y[idx]}\",\n",
    "            size=10,\n",
    "        )\n",
    "        sub.axis(\"off\")\n",
    "\n",
    "# Add title to the visualization\n",
    "f.suptitle(\n",
    "    \"Active learning with Label Propagation.\\nRows show 5 most \"\n",
    "    \"uncertain labels to learn with the next model.\",\n",
    "    y=1,\n",
    ")\n",
    "plt.subplots_adjust(left=0.2, bottom=0.03, right=0.9, top=0.9, wspace=0.2, hspace=0.85)\n",
    "plt.show()\n"
   ]
  },
  {
   "cell_type": "code",
   "execution_count": 10,
   "metadata": {},
   "outputs": [
    {
     "name": "stdout",
     "output_type": "stream",
     "text": [
      "\n",
      "# Quantitative Results Across Active Learning Iterations\n",
      "======================================================================\n",
      "Iteration 0 (Initial): 40 labeled samples, Accuracy: 0.9000\n",
      "Iteration 1: 45 labeled samples, Accuracy: 0.9121 (+1.21%)\n",
      "Iteration 2: 50 labeled samples, Accuracy: 0.9378 (+3.78%)\n",
      "Iteration 3: 55 labeled samples, Accuracy: 0.9348 (+3.48%)\n",
      "Iteration 4: 60 labeled samples, Accuracy: 0.9409 (+4.09%)\n"
     ]
    },
    {
     "data": {
      "image/png": "[encoded data removed]",
      "text/plain": [
       "<Figure size 1000x600 with 1 Axes>"
      ]
     },
     "metadata": {},
     "output_type": "display_data"
    }
   ],
   "source": [
    "# Add comprehensive results comparison\n",
    "print(\"\\n# Quantitative Results Across Active Learning Iterations\")\n",
    "print(\"=\" * 70)\n",
    "\n",
    "# Print accuracy for each iteration\n",
    "for i in range(len(all_accuracies)):\n",
    "    if i == 0:\n",
    "        print(\n",
    "            f\"Iteration {i} (Initial): {all_labeled_counts[i]} labeled samples, Accuracy: {all_accuracies[i]:.4f}\"\n",
    "        )\n",
    "    else:\n",
    "        improvement = (all_accuracies[i] - all_accuracies[0]) * 100\n",
    "        print(\n",
    "            f\"Iteration {i}: {all_labeled_counts[i]} labeled samples, Accuracy: {all_accuracies[i]:.4f} (+{improvement:.2f}%)\"\n",
    "        )\n",
    "\n",
    "# Plot accuracy improvement\n",
    "plt.figure(figsize=(10, 6))\n",
    "plt.plot(all_labeled_counts, all_accuracies, \"o-\", linewidth=2, markersize=10)\n",
    "plt.xlabel(\"Number of Labeled Samples\")\n",
    "plt.ylabel(\"Accuracy\")\n",
    "plt.title(\"Accuracy Improvement with Active Learning\")\n",
    "plt.grid(True)\n",
    "plt.xticks(all_labeled_counts)\n",
    "plt.ylim(min(all_accuracies) - 0.05, 1.0)\n",
    "\n",
    "# Add percentage improvement annotations\n",
    "for i in range(1, len(all_accuracies)):\n",
    "    improvement = (all_accuracies[i] - all_accuracies[0]) * 100\n",
    "    plt.annotate(\n",
    "        f\"+{improvement:.1f}%\",\n",
    "        xy=(all_labeled_counts[i], all_accuracies[i]),\n",
    "        xytext=(5, 10),\n",
    "        textcoords=\"offset points\",\n",
    "    )\n",
    "\n",
    "plt.tight_layout()\n",
    "plt.show()"
   ]
  },
  {
   "cell_type": "markdown",
   "metadata": {
    "id": "GXNHbua20aTF"
   },
   "source": [
    "**Q:** Are the **most uncertain** samples those *closest-to*, *furthest-from*, or *neither* from the **decision boundary**?"
   ]
  },
  {
   "cell_type": "markdown",
   "metadata": {
    "id": "HoJrOZKF0Thq"
   },
   "source": [
    "# Takeaway Messages\n",
    "\n",
    "* Active learniing is useful when only a **limited amount of labelled data** are available to train a model.\n",
    "* An Active Learning model is trained using the following steps:\n",
    "1.   train model on **available labelled data**\n",
    "2.   **apply model** to **unlabelled** samples\n",
    "3.   pick a set of **least certain samples**, \n",
    "4.   **query an oracle** to obtain **labels**\n",
    "5.   **retrain** the model\n",
    "6.   (**Repeat** until a **stop criterion**)"
   ]
  }
 ],
 "metadata": {
  "colab": {
   "name": "Tutorial-8_ActiveLearning.ipynb",
   "provenance": []
  },
  "kernelspec": {
   "display_name": "Python 3 (ipykernel)",
   "language": "python",
   "name": "python3"
  },
  "language_info": {
   "codemirror_mode": {
    "name": "ipython",
    "version": 3
   },
   "file_extension": ".py",
   "mimetype": "text/x-python",
   "name": "python",
   "nbconvert_exporter": "python",
   "pygments_lexer": "ipython3",
   "version": "3.11.11"
  }
 },
 "nbformat": 4,
 "nbformat_minor": 4
}
